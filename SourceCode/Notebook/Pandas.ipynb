{
 "cells": [
  {
   "cell_type": "code",
   "execution_count": 2,
   "id": "59d84619",
   "metadata": {},
   "outputs": [],
   "source": [
    "import pandas as pd\n",
    "from datetime import date\n",
    "import datetime\n",
    "import time"
   ]
  },
  {
   "cell_type": "code",
   "execution_count": null,
   "id": "b1eb244d",
   "metadata": {},
   "outputs": [],
   "source": [
    "% cd .."
   ]
  },
  {
   "cell_type": "markdown",
   "id": "a125ae17",
   "metadata": {},
   "source": [
    "# Load data"
   ]
  },
  {
   "cell_type": "code",
   "execution_count": 3,
   "id": "7bb30cfc",
   "metadata": {
    "scrolled": true
   },
   "outputs": [
    {
     "data": {
      "text/html": [
       "<div>\n",
       "<style scoped>\n",
       "    .dataframe tbody tr th:only-of-type {\n",
       "        vertical-align: middle;\n",
       "    }\n",
       "\n",
       "    .dataframe tbody tr th {\n",
       "        vertical-align: top;\n",
       "    }\n",
       "\n",
       "    .dataframe thead th {\n",
       "        text-align: right;\n",
       "    }\n",
       "</style>\n",
       "<table border=\"1\" class=\"dataframe\">\n",
       "  <thead>\n",
       "    <tr style=\"text-align: right;\">\n",
       "      <th></th>\n",
       "      <th>sensor_id</th>\n",
       "      <th>sensor_description</th>\n",
       "      <th>sensor_name</th>\n",
       "      <th>installation_date</th>\n",
       "      <th>status</th>\n",
       "      <th>note</th>\n",
       "      <th>direction_1</th>\n",
       "      <th>direction_2</th>\n",
       "      <th>latitude</th>\n",
       "      <th>longitude</th>\n",
       "      <th>location</th>\n",
       "    </tr>\n",
       "  </thead>\n",
       "  <tbody>\n",
       "    <tr>\n",
       "      <th>0</th>\n",
       "      <td>16</td>\n",
       "      <td>Australia on Collins</td>\n",
       "      <td>Col270_T</td>\n",
       "      <td>2009/03/30</td>\n",
       "      <td>R</td>\n",
       "      <td>Device moved to location ID 53 (22/09/2015)</td>\n",
       "      <td>NaN</td>\n",
       "      <td>NaN</td>\n",
       "      <td>-37.815734</td>\n",
       "      <td>144.96521</td>\n",
       "      <td>(-37.81573422, 144.96521044)</td>\n",
       "    </tr>\n",
       "    <tr>\n",
       "      <th>1</th>\n",
       "      <td>50</td>\n",
       "      <td>Faraday St-Lygon St (West)</td>\n",
       "      <td>Lyg309_T</td>\n",
       "      <td>2017/11/30</td>\n",
       "      <td>A</td>\n",
       "      <td>NaN</td>\n",
       "      <td>South</td>\n",
       "      <td>North</td>\n",
       "      <td>-37.798082</td>\n",
       "      <td>144.96721</td>\n",
       "      <td>(-37.79808191, 144.96721014)</td>\n",
       "    </tr>\n",
       "  </tbody>\n",
       "</table>\n",
       "</div>"
      ],
      "text/plain": [
       "   sensor_id          sensor_description sensor_name installation_date status  \\\n",
       "0         16        Australia on Collins    Col270_T        2009/03/30      R   \n",
       "1         50  Faraday St-Lygon St (West)    Lyg309_T        2017/11/30      A   \n",
       "\n",
       "                                          note direction_1 direction_2  \\\n",
       "0  Device moved to location ID 53 (22/09/2015)         NaN         NaN   \n",
       "1                                          NaN       South       North   \n",
       "\n",
       "    latitude  longitude                      location  \n",
       "0 -37.815734  144.96521  (-37.81573422, 144.96521044)  \n",
       "1 -37.798082  144.96721  (-37.79808191, 144.96721014)  "
      ]
     },
     "execution_count": 3,
     "metadata": {},
     "output_type": "execute_result"
    }
   ],
   "source": [
    "sensor_df = pd.read_csv('../Data/Pedestrian_Counting_System_-_Sensor_Locations.csv')\n",
    "sensor_df.head(2)"
   ]
  },
  {
   "cell_type": "code",
   "execution_count": 5,
   "id": "6f17d9ec",
   "metadata": {},
   "outputs": [
    {
     "data": {
      "text/html": [
       "<div>\n",
       "<style scoped>\n",
       "    .dataframe tbody tr th:only-of-type {\n",
       "        vertical-align: middle;\n",
       "    }\n",
       "\n",
       "    .dataframe tbody tr th {\n",
       "        vertical-align: top;\n",
       "    }\n",
       "\n",
       "    .dataframe thead th {\n",
       "        text-align: right;\n",
       "    }\n",
       "</style>\n",
       "<table border=\"1\" class=\"dataframe\">\n",
       "  <thead>\n",
       "    <tr style=\"text-align: right;\">\n",
       "      <th></th>\n",
       "      <th>ID</th>\n",
       "      <th>Date_Time</th>\n",
       "      <th>Year</th>\n",
       "      <th>Month</th>\n",
       "      <th>Mdate</th>\n",
       "      <th>Day</th>\n",
       "      <th>Time</th>\n",
       "      <th>Sensor_ID</th>\n",
       "      <th>Sensor_Name</th>\n",
       "      <th>Hourly_Counts</th>\n",
       "      <th>Date</th>\n",
       "    </tr>\n",
       "  </thead>\n",
       "  <tbody>\n",
       "    <tr>\n",
       "      <th>0</th>\n",
       "      <td>2887628</td>\n",
       "      <td>2019-11-01 05:00:00</td>\n",
       "      <td>2019</td>\n",
       "      <td>11</td>\n",
       "      <td>1</td>\n",
       "      <td>Friday</td>\n",
       "      <td>17</td>\n",
       "      <td>34</td>\n",
       "      <td>Flinders St-Spark La</td>\n",
       "      <td>300</td>\n",
       "      <td>2019-11-01</td>\n",
       "    </tr>\n",
       "    <tr>\n",
       "      <th>1</th>\n",
       "      <td>2887629</td>\n",
       "      <td>2019-11-01 05:00:00</td>\n",
       "      <td>2019</td>\n",
       "      <td>11</td>\n",
       "      <td>1</td>\n",
       "      <td>Friday</td>\n",
       "      <td>17</td>\n",
       "      <td>39</td>\n",
       "      <td>Alfred Place</td>\n",
       "      <td>604</td>\n",
       "      <td>2019-11-01</td>\n",
       "    </tr>\n",
       "  </tbody>\n",
       "</table>\n",
       "</div>"
      ],
      "text/plain": [
       "        ID           Date_Time  Year  Month  Mdate     Day  Time  Sensor_ID  \\\n",
       "0  2887628 2019-11-01 05:00:00  2019     11      1  Friday    17         34   \n",
       "1  2887629 2019-11-01 05:00:00  2019     11      1  Friday    17         39   \n",
       "\n",
       "            Sensor_Name  Hourly_Counts        Date  \n",
       "0  Flinders St-Spark La            300  2019-11-01  \n",
       "1          Alfred Place            604  2019-11-01  "
      ]
     },
     "execution_count": 5,
     "metadata": {},
     "output_type": "execute_result"
    }
   ],
   "source": [
    "count_df = pd.read_csv('../Data/Pedestrian_Counting_System_-_Monthly__counts_per_hour_.csv')\n",
    "count_df['Date_Time'] = pd.to_datetime(count_df['Date_Time'], format='%B %d, %Y %X %p')\n",
    "count_df['Date'] = count_df['Date_Time'].dt.date\n",
    "count_df['Month'] = pd.to_datetime(count_df['Month'], format='%B').dt.month\n",
    "count_df.head(2)"
   ]
  },
  {
   "cell_type": "code",
   "execution_count": 6,
   "id": "e482c56c",
   "metadata": {},
   "outputs": [
    {
     "data": {
      "text/plain": [
       "(4463670, 11)"
      ]
     },
     "execution_count": 6,
     "metadata": {},
     "output_type": "execute_result"
    }
   ],
   "source": [
    "count_df.shape"
   ]
  },
  {
   "cell_type": "markdown",
   "id": "1eb49654",
   "metadata": {},
   "source": [
    "# Top 10 (most pedestrians) locations by day"
   ]
  },
  {
   "cell_type": "code",
   "execution_count": 4,
   "id": "2451a27b",
   "metadata": {},
   "outputs": [],
   "source": [
    "start_time = time.time()"
   ]
  },
  {
   "cell_type": "code",
   "execution_count": 5,
   "id": "599b423e",
   "metadata": {},
   "outputs": [
    {
     "data": {
      "text/html": [
       "<div>\n",
       "<style scoped>\n",
       "    .dataframe tbody tr th:only-of-type {\n",
       "        vertical-align: middle;\n",
       "    }\n",
       "\n",
       "    .dataframe tbody tr th {\n",
       "        vertical-align: top;\n",
       "    }\n",
       "\n",
       "    .dataframe thead th {\n",
       "        text-align: right;\n",
       "    }\n",
       "</style>\n",
       "<table border=\"1\" class=\"dataframe\">\n",
       "  <thead>\n",
       "    <tr style=\"text-align: right;\">\n",
       "      <th></th>\n",
       "      <th>Year</th>\n",
       "      <th>Month</th>\n",
       "      <th>Mdate</th>\n",
       "      <th>Sensor_ID</th>\n",
       "      <th>Hourly_Counts</th>\n",
       "    </tr>\n",
       "  </thead>\n",
       "  <tbody>\n",
       "    <tr>\n",
       "      <th>2</th>\n",
       "      <td>2009</td>\n",
       "      <td>5</td>\n",
       "      <td>1</td>\n",
       "      <td>4</td>\n",
       "      <td>45185</td>\n",
       "    </tr>\n",
       "    <tr>\n",
       "      <th>0</th>\n",
       "      <td>2009</td>\n",
       "      <td>5</td>\n",
       "      <td>1</td>\n",
       "      <td>1</td>\n",
       "      <td>36869</td>\n",
       "    </tr>\n",
       "    <tr>\n",
       "      <th>4</th>\n",
       "      <td>2009</td>\n",
       "      <td>5</td>\n",
       "      <td>1</td>\n",
       "      <td>6</td>\n",
       "      <td>29015</td>\n",
       "    </tr>\n",
       "  </tbody>\n",
       "</table>\n",
       "</div>"
      ],
      "text/plain": [
       "   Year  Month  Mdate  Sensor_ID  Hourly_Counts\n",
       "2  2009      5      1          4          45185\n",
       "0  2009      5      1          1          36869\n",
       "4  2009      5      1          6          29015"
      ]
     },
     "execution_count": 5,
     "metadata": {},
     "output_type": "execute_result"
    }
   ],
   "source": [
    "# Sum number of Pedestrian\n",
    "sumPerDay = count_df.groupby(['Year', 'Month', 'Mdate', 'Sensor_ID'])\\\n",
    "    ['Hourly_Counts'].sum('Hourly_Counts').reset_index()\n",
    "# Sort value by total Hourly Counts per day\n",
    "sumPerDaySorted = sumPerDay.sort_values(['Year', 'Month', 'Mdate', 'Hourly_Counts'], \n",
    "                                        ascending = [True, True, True, False])\n",
    "# Get top 10 pedestrians location by day\n",
    "top10PerDay = sumPerDaySorted.groupby(['Year', 'Month', 'Mdate']).head(10)\n",
    "top10PerDay.head(3)"
   ]
  },
  {
   "cell_type": "markdown",
   "id": "19b83253",
   "metadata": {},
   "source": [
    "## Record"
   ]
  },
  {
   "cell_type": "code",
   "execution_count": 6,
   "id": "f50bfebe",
   "metadata": {
    "scrolled": true
   },
   "outputs": [
    {
     "data": {
      "text/html": [
       "<div>\n",
       "<style scoped>\n",
       "    .dataframe tbody tr th:only-of-type {\n",
       "        vertical-align: middle;\n",
       "    }\n",
       "\n",
       "    .dataframe tbody tr th {\n",
       "        vertical-align: top;\n",
       "    }\n",
       "\n",
       "    .dataframe thead th {\n",
       "        text-align: right;\n",
       "    }\n",
       "</style>\n",
       "<table border=\"1\" class=\"dataframe\">\n",
       "  <thead>\n",
       "    <tr style=\"text-align: right;\">\n",
       "      <th></th>\n",
       "      <th>Year</th>\n",
       "      <th>Month</th>\n",
       "      <th>Mdate</th>\n",
       "      <th>Sensor_ID</th>\n",
       "      <th>Hourly_Counts</th>\n",
       "      <th>sensor_description</th>\n",
       "      <th>sensor_name</th>\n",
       "    </tr>\n",
       "  </thead>\n",
       "  <tbody>\n",
       "    <tr>\n",
       "      <th>2</th>\n",
       "      <td>2009</td>\n",
       "      <td>5</td>\n",
       "      <td>1</td>\n",
       "      <td>4</td>\n",
       "      <td>45185</td>\n",
       "      <td>Town Hall (West)</td>\n",
       "      <td>Swa123_T</td>\n",
       "    </tr>\n",
       "    <tr>\n",
       "      <th>0</th>\n",
       "      <td>2009</td>\n",
       "      <td>5</td>\n",
       "      <td>1</td>\n",
       "      <td>1</td>\n",
       "      <td>36869</td>\n",
       "      <td>Bourke Street Mall (North)</td>\n",
       "      <td>Bou292_T</td>\n",
       "    </tr>\n",
       "    <tr>\n",
       "      <th>4</th>\n",
       "      <td>2009</td>\n",
       "      <td>5</td>\n",
       "      <td>1</td>\n",
       "      <td>6</td>\n",
       "      <td>29015</td>\n",
       "      <td>Flinders Street Station Underpass</td>\n",
       "      <td>FliS_T</td>\n",
       "    </tr>\n",
       "  </tbody>\n",
       "</table>\n",
       "</div>"
      ],
      "text/plain": [
       "   Year  Month  Mdate  Sensor_ID  Hourly_Counts  \\\n",
       "2  2009      5      1          4          45185   \n",
       "0  2009      5      1          1          36869   \n",
       "4  2009      5      1          6          29015   \n",
       "\n",
       "                  sensor_description sensor_name  \n",
       "2                   Town Hall (West)    Swa123_T  \n",
       "0         Bourke Street Mall (North)    Bou292_T  \n",
       "4  Flinders Street Station Underpass      FliS_T  "
      ]
     },
     "execution_count": 6,
     "metadata": {},
     "output_type": "execute_result"
    }
   ],
   "source": [
    "tmp = top10PerDay.join(sensor_df[['sensor_description', 'sensor_name', 'sensor_id']]\\\n",
    "    .set_index('sensor_id'), \n",
    "                       on='Sensor_ID')\n",
    "fullTop10PerDay = tmp.sort_values(['Year', 'Month', 'Mdate', 'Hourly_Counts'],\n",
    "                                  ascending = [True, True, True, False])\n",
    "fullTop10PerDay.to_csv('Pandas_Top10PerDay.csv', index = False)\n",
    "\n",
    "fullTop10PerDay.head(3)"
   ]
  },
  {
   "cell_type": "code",
   "execution_count": 7,
   "id": "db28abad",
   "metadata": {},
   "outputs": [
    {
     "name": "stdout",
     "output_type": "stream",
     "text": [
      "Running Top 10 Per Day\n",
      "--- 1.3969950675964355 seconds ---\n"
     ]
    }
   ],
   "source": [
    "print('Running Top 10 Per Day')\n",
    "print(\"--- %s seconds ---\" % (time.time() - start_time))"
   ]
  },
  {
   "cell_type": "markdown",
   "id": "9d1953f1",
   "metadata": {},
   "source": [
    "# Top 10 (most pedestrians) locations by month"
   ]
  },
  {
   "cell_type": "code",
   "execution_count": 8,
   "id": "0d57a791",
   "metadata": {},
   "outputs": [],
   "source": [
    "start_time = time.time()"
   ]
  },
  {
   "cell_type": "code",
   "execution_count": 9,
   "id": "6a06b89b",
   "metadata": {
    "scrolled": true
   },
   "outputs": [
    {
     "data": {
      "text/html": [
       "<div>\n",
       "<style scoped>\n",
       "    .dataframe tbody tr th:only-of-type {\n",
       "        vertical-align: middle;\n",
       "    }\n",
       "\n",
       "    .dataframe tbody tr th {\n",
       "        vertical-align: top;\n",
       "    }\n",
       "\n",
       "    .dataframe thead th {\n",
       "        text-align: right;\n",
       "    }\n",
       "</style>\n",
       "<table border=\"1\" class=\"dataframe\">\n",
       "  <thead>\n",
       "    <tr style=\"text-align: right;\">\n",
       "      <th></th>\n",
       "      <th>Year</th>\n",
       "      <th>Month</th>\n",
       "      <th>Sensor_ID</th>\n",
       "      <th>Hourly_Counts</th>\n",
       "    </tr>\n",
       "  </thead>\n",
       "  <tbody>\n",
       "    <tr>\n",
       "      <th>3</th>\n",
       "      <td>2009</td>\n",
       "      <td>5</td>\n",
       "      <td>4</td>\n",
       "      <td>1095125</td>\n",
       "    </tr>\n",
       "    <tr>\n",
       "      <th>0</th>\n",
       "      <td>2009</td>\n",
       "      <td>5</td>\n",
       "      <td>1</td>\n",
       "      <td>842470</td>\n",
       "    </tr>\n",
       "    <tr>\n",
       "      <th>5</th>\n",
       "      <td>2009</td>\n",
       "      <td>5</td>\n",
       "      <td>6</td>\n",
       "      <td>729966</td>\n",
       "    </tr>\n",
       "    <tr>\n",
       "      <th>4</th>\n",
       "      <td>2009</td>\n",
       "      <td>5</td>\n",
       "      <td>5</td>\n",
       "      <td>711896</td>\n",
       "    </tr>\n",
       "    <tr>\n",
       "      <th>1</th>\n",
       "      <td>2009</td>\n",
       "      <td>5</td>\n",
       "      <td>2</td>\n",
       "      <td>628472</td>\n",
       "    </tr>\n",
       "  </tbody>\n",
       "</table>\n",
       "</div>"
      ],
      "text/plain": [
       "   Year  Month  Sensor_ID  Hourly_Counts\n",
       "3  2009      5          4        1095125\n",
       "0  2009      5          1         842470\n",
       "5  2009      5          6         729966\n",
       "4  2009      5          5         711896\n",
       "1  2009      5          2         628472"
      ]
     },
     "execution_count": 9,
     "metadata": {},
     "output_type": "execute_result"
    }
   ],
   "source": [
    "# Sum number of Pedestrian\n",
    "sumPerMonth = count_df.groupby(['Year', 'Month', 'Sensor_ID'])['Hourly_Counts'].sum('Hourly_Counts').reset_index()\n",
    "# Sort value by total Hourly Counts per day\n",
    "sumPerMonthSorted = sumPerMonth.sort_values(['Year', 'Month', 'Hourly_Counts'], ascending = [True, True, False])\n",
    "# Get top 10 pedestrians location by day\n",
    "top10PerMonth = sumPerMonthSorted.groupby(['Year', 'Month']).head(10)\n",
    "top10PerMonth.head(5)"
   ]
  },
  {
   "cell_type": "markdown",
   "id": "8ac698eb",
   "metadata": {},
   "source": [
    "## Record"
   ]
  },
  {
   "cell_type": "code",
   "execution_count": 10,
   "id": "ab38a113",
   "metadata": {},
   "outputs": [
    {
     "data": {
      "text/html": [
       "<div>\n",
       "<style scoped>\n",
       "    .dataframe tbody tr th:only-of-type {\n",
       "        vertical-align: middle;\n",
       "    }\n",
       "\n",
       "    .dataframe tbody tr th {\n",
       "        vertical-align: top;\n",
       "    }\n",
       "\n",
       "    .dataframe thead th {\n",
       "        text-align: right;\n",
       "    }\n",
       "</style>\n",
       "<table border=\"1\" class=\"dataframe\">\n",
       "  <thead>\n",
       "    <tr style=\"text-align: right;\">\n",
       "      <th></th>\n",
       "      <th>Year</th>\n",
       "      <th>Month</th>\n",
       "      <th>Sensor_ID</th>\n",
       "      <th>Hourly_Counts</th>\n",
       "      <th>sensor_description</th>\n",
       "      <th>sensor_name</th>\n",
       "    </tr>\n",
       "  </thead>\n",
       "  <tbody>\n",
       "    <tr>\n",
       "      <th>3</th>\n",
       "      <td>2009</td>\n",
       "      <td>5</td>\n",
       "      <td>4</td>\n",
       "      <td>1095125</td>\n",
       "      <td>Town Hall (West)</td>\n",
       "      <td>Swa123_T</td>\n",
       "    </tr>\n",
       "    <tr>\n",
       "      <th>0</th>\n",
       "      <td>2009</td>\n",
       "      <td>5</td>\n",
       "      <td>1</td>\n",
       "      <td>842470</td>\n",
       "      <td>Bourke Street Mall (North)</td>\n",
       "      <td>Bou292_T</td>\n",
       "    </tr>\n",
       "    <tr>\n",
       "      <th>5</th>\n",
       "      <td>2009</td>\n",
       "      <td>5</td>\n",
       "      <td>6</td>\n",
       "      <td>729966</td>\n",
       "      <td>Flinders Street Station Underpass</td>\n",
       "      <td>FliS_T</td>\n",
       "    </tr>\n",
       "  </tbody>\n",
       "</table>\n",
       "</div>"
      ],
      "text/plain": [
       "   Year  Month  Sensor_ID  Hourly_Counts                 sensor_description  \\\n",
       "3  2009      5          4        1095125                   Town Hall (West)   \n",
       "0  2009      5          1         842470         Bourke Street Mall (North)   \n",
       "5  2009      5          6         729966  Flinders Street Station Underpass   \n",
       "\n",
       "  sensor_name  \n",
       "3    Swa123_T  \n",
       "0    Bou292_T  \n",
       "5      FliS_T  "
      ]
     },
     "execution_count": 10,
     "metadata": {},
     "output_type": "execute_result"
    }
   ],
   "source": [
    "tmp = top10PerMonth.join(sensor_df[['sensor_description', 'sensor_name', 'sensor_id']]\\\n",
    "    .set_index('sensor_id'), on='Sensor_ID')\n",
    "fullTop10PerMonth = tmp.sort_values(['Year', 'Month', 'Hourly_Counts'],\n",
    "                                  ascending = [True, True, False])\n",
    "fullTop10PerMonth.to_csv('Pandas_Top10PerMonth.csv', index = False)\n",
    "fullTop10PerMonth.head(3)"
   ]
  },
  {
   "cell_type": "code",
   "execution_count": 11,
   "id": "244921a4",
   "metadata": {},
   "outputs": [
    {
     "name": "stdout",
     "output_type": "stream",
     "text": [
      "Running Top 10 Per Month\n",
      "--- 0.9079995155334473 seconds ---\n"
     ]
    }
   ],
   "source": [
    "print('Running Top 10 Per Month')\n",
    "print(\"--- %s seconds ---\" % (time.time() - start_time))"
   ]
  },
  {
   "cell_type": "markdown",
   "id": "dacd9170",
   "metadata": {},
   "source": [
    "# Which location has shown most decline due to lockdowns in last 2 years"
   ]
  },
  {
   "cell_type": "code",
   "execution_count": 12,
   "id": "9ced31f7",
   "metadata": {},
   "outputs": [],
   "source": [
    "start_time = time.time()"
   ]
  },
  {
   "cell_type": "code",
   "execution_count": 13,
   "id": "fc7fcc52",
   "metadata": {},
   "outputs": [],
   "source": [
    "# Sum number Pedestrians in 3 year 2020, 2021, 2022\n",
    "countLast3year_df = count_df[count_df['Year'].isin([2020,2021,2022])]\n",
    "tmp = countLast3year_df.groupby(['Year', 'Sensor_ID'])[['Hourly_Counts']].sum().reset_index('Year')\n",
    "# Calculate Number of Pedestrians change from 2020 to 2022\n",
    "year2020 = tmp[tmp['Year'] == 2020]['Hourly_Counts']\n",
    "year2021 = tmp[tmp['Year'] == 2021]['Hourly_Counts']\n",
    "year2022 = tmp[tmp['Year'] == 2022]['Hourly_Counts']"
   ]
  },
  {
   "cell_type": "markdown",
   "id": "cab8eb78",
   "metadata": {},
   "source": [
    "Sensor in 2020 not in 2022"
   ]
  },
  {
   "cell_type": "code",
   "execution_count": 14,
   "id": "b35d1523",
   "metadata": {},
   "outputs": [
    {
     "data": {
      "text/plain": [
       "[34, 22, 15]"
      ]
     },
     "execution_count": 14,
     "metadata": {},
     "output_type": "execute_result"
    }
   ],
   "source": [
    "sensor2022 = set(year2022.index)\n",
    "sensor2021 = set(year2021.index)\n",
    "sensor2020 = set(year2020.index)\n",
    "list(sensor2020-sensor2022)"
   ]
  },
  {
   "cell_type": "markdown",
   "id": "ab62246f",
   "metadata": {},
   "source": [
    "Sensor in 2020 not in 2021"
   ]
  },
  {
   "cell_type": "code",
   "execution_count": 15,
   "id": "a85353e6",
   "metadata": {},
   "outputs": [
    {
     "data": {
      "text/plain": [
       "[]"
      ]
     },
     "execution_count": 15,
     "metadata": {},
     "output_type": "execute_result"
    }
   ],
   "source": [
    "list(sensor2020-sensor2021)"
   ]
  },
  {
   "cell_type": "markdown",
   "id": "f3a47fd3",
   "metadata": {},
   "source": [
    "Sensor in 2021 not in 2022"
   ]
  },
  {
   "cell_type": "code",
   "execution_count": 16,
   "id": "21af738e",
   "metadata": {},
   "outputs": [
    {
     "data": {
      "text/plain": [
       "[34, 22, 15]"
      ]
     },
     "execution_count": 16,
     "metadata": {},
     "output_type": "execute_result"
    }
   ],
   "source": [
    "list(sensor2021-sensor2022)"
   ]
  },
  {
   "cell_type": "code",
   "execution_count": 17,
   "id": "a5644b0e",
   "metadata": {},
   "outputs": [],
   "source": [
    "# Calculate Number of Pedestrians change from 2020 to 2022\n",
    "year2020to2022 = year2020-year2022\n",
    "year2020to2022_index = set(year2020to2022[year2020to2022.notnull()].index)\n",
    "year2020to2022 = year2020to2022[year2020to2022.notnull()]"
   ]
  },
  {
   "cell_type": "code",
   "execution_count": 18,
   "id": "5fee71b4",
   "metadata": {},
   "outputs": [
    {
     "data": {
      "text/plain": [
       "Sensor_ID\n",
       "34     148705.0\n",
       "22    1507594.0\n",
       "15    -712874.0\n",
       "Name: Hourly_Counts, dtype: float64"
      ]
     },
     "execution_count": 18,
     "metadata": {},
     "output_type": "execute_result"
    }
   ],
   "source": [
    "# Calculate Number of Pedestrians change from 2020 to 2021 and not in from 2020 to 2022\n",
    "year2020to2021 = year2020-year2021\n",
    "year2020to2021_index = set(year2020to2021[year2020to2021.notnull()].index)\n",
    "justIn20_21_index = list(set(year2020to2021_index) - set(year2020to2022_index))\n",
    "justIn20_21 = year2020to2021[justIn20_21_index]\n",
    "justIn20_21"
   ]
  },
  {
   "cell_type": "code",
   "execution_count": 19,
   "id": "fa09e60f",
   "metadata": {},
   "outputs": [
    {
     "data": {
      "text/plain": [
       "Sensor_ID\n",
       "72    -136961.0\n",
       "75       2197.0\n",
       "76     102432.0\n",
       "77     -28753.0\n",
       "78     -67258.0\n",
       "79   -1673189.0\n",
       "Name: Hourly_Counts, dtype: float64"
      ]
     },
     "execution_count": 19,
     "metadata": {},
     "output_type": "execute_result"
    }
   ],
   "source": [
    "# Calculate Number of Pedestrians change from 2021 to 2022 and not in from 2020 to 2022\n",
    "year2021to2022 = year2021-year2022\n",
    "# Get list index of value just in 2021\n",
    "year2021to2022_index = set(year2021to2022[year2021to2022.notnull()].index)\n",
    "justIn21_22_index = list(set(year2021to2022_index) - set(year2020to2022_index))\n",
    "justIn21_22 = year2021to2022[justIn21_22_index]\n",
    "justIn21_22"
   ]
  },
  {
   "cell_type": "code",
   "execution_count": 20,
   "id": "bf004ef9",
   "metadata": {},
   "outputs": [
    {
     "data": {
      "text/html": [
       "<div>\n",
       "<style scoped>\n",
       "    .dataframe tbody tr th:only-of-type {\n",
       "        vertical-align: middle;\n",
       "    }\n",
       "\n",
       "    .dataframe tbody tr th {\n",
       "        vertical-align: top;\n",
       "    }\n",
       "\n",
       "    .dataframe thead th {\n",
       "        text-align: right;\n",
       "    }\n",
       "</style>\n",
       "<table border=\"1\" class=\"dataframe\">\n",
       "  <thead>\n",
       "    <tr style=\"text-align: right;\">\n",
       "      <th></th>\n",
       "      <th>Sensor_ID</th>\n",
       "      <th>Sum_Hourly_Count</th>\n",
       "    </tr>\n",
       "  </thead>\n",
       "  <tbody>\n",
       "    <tr>\n",
       "      <th>0</th>\n",
       "      <td>55</td>\n",
       "      <td>3815915</td>\n",
       "    </tr>\n",
       "  </tbody>\n",
       "</table>\n",
       "</div>"
      ],
      "text/plain": [
       "   Sensor_ID  Sum_Hourly_Count\n",
       "0         55           3815915"
      ]
     },
     "execution_count": 20,
     "metadata": {},
     "output_type": "execute_result"
    }
   ],
   "source": [
    "# Concat result\n",
    "ChangeFrom2020To2022 = pd.concat([year2020to2022, justIn20_21, justIn21_22])\n",
    "idx = ChangeFrom2020To2022.idxmax()\n",
    "# sensorName = countLast3year_df[countLast3year_df['Sensor_ID'] == idx]['Sensor_Name'].unique()[0]\n",
    "# mostDeclineDict = {\n",
    "#     'Year':[2020, 2021, 2022],\n",
    "#     'Sensor_ID': idx,\n",
    "#     'Sum_Hourly_Count': [year2020[idx], year2021[idx], year2022[idx]]}\n",
    "mostDeclineDict = {\n",
    "    'Sensor_ID': [idx],\n",
    "    'Sum_Hourly_Count': [year2020[idx]- year2022[idx]]}\n",
    "mostDeclide_df = pd.DataFrame.from_dict(mostDeclineDict)\n",
    "mostDeclide_df"
   ]
  },
  {
   "cell_type": "markdown",
   "id": "a8d2f1a0",
   "metadata": {},
   "source": [
    "## Record"
   ]
  },
  {
   "cell_type": "code",
   "execution_count": 21,
   "id": "7ec907aa",
   "metadata": {},
   "outputs": [
    {
     "data": {
      "text/html": [
       "<div>\n",
       "<style scoped>\n",
       "    .dataframe tbody tr th:only-of-type {\n",
       "        vertical-align: middle;\n",
       "    }\n",
       "\n",
       "    .dataframe tbody tr th {\n",
       "        vertical-align: top;\n",
       "    }\n",
       "\n",
       "    .dataframe thead th {\n",
       "        text-align: right;\n",
       "    }\n",
       "</style>\n",
       "<table border=\"1\" class=\"dataframe\">\n",
       "  <thead>\n",
       "    <tr style=\"text-align: right;\">\n",
       "      <th></th>\n",
       "      <th>Sensor_ID</th>\n",
       "      <th>Sum_Hourly_Count</th>\n",
       "      <th>sensor_description</th>\n",
       "      <th>sensor_name</th>\n",
       "    </tr>\n",
       "  </thead>\n",
       "  <tbody>\n",
       "    <tr>\n",
       "      <th>0</th>\n",
       "      <td>55</td>\n",
       "      <td>3815915</td>\n",
       "      <td>Elizabeth St-La Trobe St (East)</td>\n",
       "      <td>Eli380_T</td>\n",
       "    </tr>\n",
       "  </tbody>\n",
       "</table>\n",
       "</div>"
      ],
      "text/plain": [
       "   Sensor_ID  Sum_Hourly_Count               sensor_description sensor_name\n",
       "0         55           3815915  Elizabeth St-La Trobe St (East)    Eli380_T"
      ]
     },
     "execution_count": 21,
     "metadata": {},
     "output_type": "execute_result"
    }
   ],
   "source": [
    "# Record result\n",
    "mostDeclide = mostDeclide_df.join(sensor_df[['sensor_description', 'sensor_name', 'sensor_id']]\\\n",
    "    .set_index('sensor_id'), on='Sensor_ID')\n",
    "\n",
    "mostDeclide.to_csv('Pandas_MostDeclineLast2Year.csv', index = False)\n",
    "mostDeclide"
   ]
  },
  {
   "cell_type": "code",
   "execution_count": 22,
   "id": "677a848f",
   "metadata": {},
   "outputs": [
    {
     "name": "stdout",
     "output_type": "stream",
     "text": [
      "Running Most Decline Last 2 Year\n",
      "--- 2.160001754760742 seconds ---\n"
     ]
    }
   ],
   "source": [
    "print('Running Most Decline Last 2 Year')\n",
    "print(\"--- %s seconds ---\" % (time.time() - start_time))"
   ]
  },
  {
   "cell_type": "markdown",
   "id": "09db0e54",
   "metadata": {},
   "source": [
    "# Which location has most growth in last year"
   ]
  },
  {
   "cell_type": "code",
   "execution_count": 23,
   "id": "e30d0a1f",
   "metadata": {},
   "outputs": [],
   "source": [
    "start_time = time.time()"
   ]
  },
  {
   "cell_type": "code",
   "execution_count": 24,
   "id": "1489922b",
   "metadata": {},
   "outputs": [
    {
     "data": {
      "text/html": [
       "<div>\n",
       "<style scoped>\n",
       "    .dataframe tbody tr th:only-of-type {\n",
       "        vertical-align: middle;\n",
       "    }\n",
       "\n",
       "    .dataframe tbody tr th {\n",
       "        vertical-align: top;\n",
       "    }\n",
       "\n",
       "    .dataframe thead th {\n",
       "        text-align: right;\n",
       "    }\n",
       "</style>\n",
       "<table border=\"1\" class=\"dataframe\">\n",
       "  <thead>\n",
       "    <tr style=\"text-align: right;\">\n",
       "      <th></th>\n",
       "      <th>Sensor_ID</th>\n",
       "      <th>Hourly_Count</th>\n",
       "    </tr>\n",
       "  </thead>\n",
       "  <tbody>\n",
       "    <tr>\n",
       "      <th>0</th>\n",
       "      <td>3</td>\n",
       "      <td>814767</td>\n",
       "    </tr>\n",
       "  </tbody>\n",
       "</table>\n",
       "</div>"
      ],
      "text/plain": [
       "   Sensor_ID  Hourly_Count\n",
       "0          3        814767"
      ]
     },
     "execution_count": 24,
     "metadata": {},
     "output_type": "execute_result"
    }
   ],
   "source": [
    "res = year2021 - year2022\n",
    "# Get index of location most growth last year\n",
    "idx = res.idxmin()\n",
    "mostGrowth = {'Sensor_ID': [idx],\n",
    "              'Hourly_Count': [year2021[idx] - year2021[idx]]}\n",
    "mostGrowth_df = pd.DataFrame.from_dict(mostGrowth)\n",
    "mostGrowth_df"
   ]
  },
  {
   "cell_type": "markdown",
   "id": "84064c85",
   "metadata": {},
   "source": [
    "## Record"
   ]
  },
  {
   "cell_type": "code",
   "execution_count": 25,
   "id": "e554e221",
   "metadata": {},
   "outputs": [
    {
     "data": {
      "text/html": [
       "<div>\n",
       "<style scoped>\n",
       "    .dataframe tbody tr th:only-of-type {\n",
       "        vertical-align: middle;\n",
       "    }\n",
       "\n",
       "    .dataframe tbody tr th {\n",
       "        vertical-align: top;\n",
       "    }\n",
       "\n",
       "    .dataframe thead th {\n",
       "        text-align: right;\n",
       "    }\n",
       "</style>\n",
       "<table border=\"1\" class=\"dataframe\">\n",
       "  <thead>\n",
       "    <tr style=\"text-align: right;\">\n",
       "      <th></th>\n",
       "      <th>Sensor_ID</th>\n",
       "      <th>Hourly_Count</th>\n",
       "      <th>sensor_description</th>\n",
       "      <th>sensor_name</th>\n",
       "    </tr>\n",
       "  </thead>\n",
       "  <tbody>\n",
       "    <tr>\n",
       "      <th>0</th>\n",
       "      <td>3</td>\n",
       "      <td>814767</td>\n",
       "      <td>Melbourne Central</td>\n",
       "      <td>Swa295_T</td>\n",
       "    </tr>\n",
       "  </tbody>\n",
       "</table>\n",
       "</div>"
      ],
      "text/plain": [
       "   Sensor_ID  Hourly_Count sensor_description sensor_name\n",
       "0          3        814767  Melbourne Central    Swa295_T"
      ]
     },
     "execution_count": 25,
     "metadata": {},
     "output_type": "execute_result"
    }
   ],
   "source": [
    "# Record result\n",
    "mostGrowth = mostGrowth_df.join(sensor_df[['sensor_description', 'sensor_name', 'sensor_id']]\\\n",
    "    .set_index('sensor_id'), on='Sensor_ID')\n",
    "\n",
    "mostGrowth.to_csv('Pandas_MostGrowthLastYear.csv', index = False)\n",
    "mostGrowth"
   ]
  },
  {
   "cell_type": "code",
   "execution_count": 26,
   "id": "019244f9",
   "metadata": {},
   "outputs": [
    {
     "name": "stdout",
     "output_type": "stream",
     "text": [
      "Running Most Growth last year\n",
      "--- 0.309002161026001 seconds ---\n"
     ]
    }
   ],
   "source": [
    "print('Running Most Growth last year')\n",
    "print(\"--- %s seconds ---\" % (time.time() - start_time))"
   ]
  }
 ],
 "metadata": {
  "kernelspec": {
   "display_name": "Python 3.9.13 ('base')",
   "language": "python",
   "name": "python3"
  },
  "language_info": {
   "codemirror_mode": {
    "name": "ipython",
    "version": 3
   },
   "file_extension": ".py",
   "mimetype": "text/x-python",
   "name": "python",
   "nbconvert_exporter": "python",
   "pygments_lexer": "ipython3",
   "version": "3.9.13"
  },
  "vscode": {
   "interpreter": {
    "hash": "1e817b4b2ad07351a07273db699b3ec8e31b2b788ca7dc8ac853ae50e620f4b5"
   }
  }
 },
 "nbformat": 4,
 "nbformat_minor": 5
}
